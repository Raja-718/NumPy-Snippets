{
  "nbformat": 4,
  "nbformat_minor": 0,
  "metadata": {
    "colab": {
      "provenance": [],
      "gpuType": "V28"
    },
    "kernelspec": {
      "name": "python3",
      "display_name": "Python 3"
    },
    "language_info": {
      "name": "python"
    },
    "accelerator": "TPU"
  },
  "cells": [
    {
      "cell_type": "markdown",
      "source": [
        "# np.sort\n",
        "Return a sorted copy of an array."
      ],
      "metadata": {
        "id": "I0Hi3CKoxhG6"
      }
    },
    {
      "cell_type": "code",
      "source": [
        "import numpy as np\n",
        "a = np.random.randint(1,100,15)\n",
        "a"
      ],
      "metadata": {
        "colab": {
          "base_uri": "https://localhost:8080/"
        },
        "id": "-PHMpDnExph6",
        "outputId": "7ba3e32d-9af1-45fc-b4ee-f22bdc6b8e15"
      },
      "execution_count": null,
      "outputs": [
        {
          "output_type": "execute_result",
          "data": {
            "text/plain": [
              "array([40, 71, 90, 12, 79, 20, 10,  6, 24,  3, 50, 86, 28, 98, 23])"
            ]
          },
          "metadata": {},
          "execution_count": 1
        }
      ]
    },
    {
      "cell_type": "code",
      "source": [
        "b = np.random.randint(1,100,24).reshape(6,4)\n",
        "b"
      ],
      "metadata": {
        "colab": {
          "base_uri": "https://localhost:8080/"
        },
        "id": "xO48G0hcx08W",
        "outputId": "c002418a-07c7-46c8-cb13-c11ca445983b"
      },
      "execution_count": null,
      "outputs": [
        {
          "output_type": "execute_result",
          "data": {
            "text/plain": [
              "array([[90, 61, 76, 47],\n",
              "       [57, 97, 15, 40],\n",
              "       [93, 68, 37,  5],\n",
              "       [40, 93, 26, 90],\n",
              "       [42, 45, 30, 76],\n",
              "       [88, 65,  5, 18]])"
            ]
          },
          "metadata": {},
          "execution_count": 2
        }
      ]
    },
    {
      "cell_type": "code",
      "source": [
        "np.sort(a)"
      ],
      "metadata": {
        "colab": {
          "base_uri": "https://localhost:8080/"
        },
        "id": "OpC6vxX-x3eq",
        "outputId": "ba7a3f1c-e8e2-4b9d-dcd1-d8d79c8ee514"
      },
      "execution_count": null,
      "outputs": [
        {
          "output_type": "execute_result",
          "data": {
            "text/plain": [
              "array([ 3,  6, 10, 12, 20, 23, 24, 28, 40, 50, 71, 79, 86, 90, 98])"
            ]
          },
          "metadata": {},
          "execution_count": 3
        }
      ]
    },
    {
      "cell_type": "code",
      "source": [
        "# row wise sorting by default axis = 1\n",
        "np.sort(b)"
      ],
      "metadata": {
        "colab": {
          "base_uri": "https://localhost:8080/"
        },
        "id": "Bx3NDG_-x6NJ",
        "outputId": "072c5889-7c7a-4838-b3aa-98266f02706b"
      },
      "execution_count": null,
      "outputs": [
        {
          "output_type": "execute_result",
          "data": {
            "text/plain": [
              "array([[47, 61, 76, 90],\n",
              "       [15, 40, 57, 97],\n",
              "       [ 5, 37, 68, 93],\n",
              "       [26, 40, 90, 93],\n",
              "       [30, 42, 45, 76],\n",
              "       [ 5, 18, 65, 88]])"
            ]
          },
          "metadata": {},
          "execution_count": 6
        }
      ]
    },
    {
      "cell_type": "code",
      "source": [
        "# column wise sorting\n",
        "np.sort(b,axis=0)"
      ],
      "metadata": {
        "colab": {
          "base_uri": "https://localhost:8080/"
        },
        "id": "C2PeeNIOyJRH",
        "outputId": "f09de72d-5315-4db2-c0bb-c916341a463d"
      },
      "execution_count": null,
      "outputs": [
        {
          "output_type": "execute_result",
          "data": {
            "text/plain": [
              "array([[40, 45,  5,  5],\n",
              "       [42, 61, 15, 18],\n",
              "       [57, 65, 26, 40],\n",
              "       [88, 68, 30, 47],\n",
              "       [90, 93, 37, 76],\n",
              "       [93, 97, 76, 90]])"
            ]
          },
          "metadata": {},
          "execution_count": 7
        }
      ]
    },
    {
      "cell_type": "code",
      "source": [
        "# sort desending orders\n",
        "np.sort(a)[::-1]"
      ],
      "metadata": {
        "colab": {
          "base_uri": "https://localhost:8080/"
        },
        "id": "qyDGSC4dyYVd",
        "outputId": "d6bd8eb5-b7c9-4d82-b824-5b0f3a366da3"
      },
      "execution_count": null,
      "outputs": [
        {
          "output_type": "execute_result",
          "data": {
            "text/plain": [
              "array([98, 90, 86, 79, 71, 50, 40, 28, 24, 23, 20, 12, 10,  6,  3])"
            ]
          },
          "metadata": {},
          "execution_count": 8
        }
      ]
    },
    {
      "cell_type": "code",
      "source": [],
      "metadata": {
        "id": "wHjOUtoMyjQC"
      },
      "execution_count": null,
      "outputs": []
    },
    {
      "cell_type": "markdown",
      "source": [
        "# np.append\n",
        "The numpy.append() appends values along the mentioned axis at the end of the array"
      ],
      "metadata": {
        "id": "ELVz3bEUywB7"
      }
    },
    {
      "cell_type": "code",
      "source": [
        "a"
      ],
      "metadata": {
        "colab": {
          "base_uri": "https://localhost:8080/"
        },
        "id": "UAYGqDN6zC-Y",
        "outputId": "f9e282b5-1ae5-4f69-c8ff-ab1425593e2d"
      },
      "execution_count": null,
      "outputs": [
        {
          "output_type": "execute_result",
          "data": {
            "text/plain": [
              "array([40, 71, 90, 12, 79, 20, 10,  6, 24,  3, 50, 86, 28, 98, 23])"
            ]
          },
          "metadata": {},
          "execution_count": 9
        }
      ]
    },
    {
      "cell_type": "code",
      "source": [
        "np.append(a,200)"
      ],
      "metadata": {
        "colab": {
          "base_uri": "https://localhost:8080/"
        },
        "id": "4HM66v_CzEaf",
        "outputId": "752c7d3e-bc88-4f46-9d0d-0ba61b76d6dc"
      },
      "execution_count": null,
      "outputs": [
        {
          "output_type": "execute_result",
          "data": {
            "text/plain": [
              "array([ 40,  71,  90,  12,  79,  20,  10,   6,  24,   3,  50,  86,  28,\n",
              "        98,  23, 200])"
            ]
          },
          "metadata": {},
          "execution_count": 10
        }
      ]
    },
    {
      "cell_type": "code",
      "source": [
        "b"
      ],
      "metadata": {
        "colab": {
          "base_uri": "https://localhost:8080/"
        },
        "id": "szJ2LVEQzJ22",
        "outputId": "07b04323-0381-4f6d-f06d-49602e7c1a05"
      },
      "execution_count": null,
      "outputs": [
        {
          "output_type": "execute_result",
          "data": {
            "text/plain": [
              "array([[90, 61, 76, 47],\n",
              "       [57, 97, 15, 40],\n",
              "       [93, 68, 37,  5],\n",
              "       [40, 93, 26, 90],\n",
              "       [42, 45, 30, 76],\n",
              "       [88, 65,  5, 18]])"
            ]
          },
          "metadata": {},
          "execution_count": 11
        }
      ]
    },
    {
      "cell_type": "code",
      "source": [
        "np.append(b, np.ones((b.shape[0],1)), axis=1)"
      ],
      "metadata": {
        "colab": {
          "base_uri": "https://localhost:8080/"
        },
        "id": "H9Tmhvn1zNmv",
        "outputId": "b9e04cd4-ddac-48c9-904a-da2008c216bf"
      },
      "execution_count": null,
      "outputs": [
        {
          "output_type": "execute_result",
          "data": {
            "text/plain": [
              "array([[90., 61., 76., 47.,  1.],\n",
              "       [57., 97., 15., 40.,  1.],\n",
              "       [93., 68., 37.,  5.,  1.],\n",
              "       [40., 93., 26., 90.,  1.],\n",
              "       [42., 45., 30., 76.,  1.],\n",
              "       [88., 65.,  5., 18.,  1.]])"
            ]
          },
          "metadata": {},
          "execution_count": 12
        }
      ]
    },
    {
      "cell_type": "code",
      "source": [],
      "metadata": {
        "id": "MJTDA5O0zhIo"
      },
      "execution_count": null,
      "outputs": []
    },
    {
      "cell_type": "markdown",
      "source": [
        "# np.concatenate\n",
        "numpy.concatenate() function concatenate a sequence of arrays along an existing axis."
      ],
      "metadata": {
        "id": "KueDiRURzosy"
      }
    },
    {
      "cell_type": "code",
      "source": [
        "c = np.arange(6).reshape(2,3)\n",
        "d = np.arange(6,12).reshape(2,3)\n",
        "\n",
        "print(c)\n",
        "print(d)"
      ],
      "metadata": {
        "colab": {
          "base_uri": "https://localhost:8080/"
        },
        "id": "I2p4SsQBz1Mf",
        "outputId": "d4c3ec32-f9df-4c1d-8a5f-798a9b64c6bc"
      },
      "execution_count": null,
      "outputs": [
        {
          "output_type": "stream",
          "name": "stdout",
          "text": [
            "[[0 1 2]\n",
            " [3 4 5]]\n",
            "[[ 6  7  8]\n",
            " [ 9 10 11]]\n"
          ]
        }
      ]
    },
    {
      "cell_type": "code",
      "source": [
        "np.concatenate((c,d), axis=0)"
      ],
      "metadata": {
        "colab": {
          "base_uri": "https://localhost:8080/"
        },
        "id": "qeYFKq7pz_0G",
        "outputId": "99179a22-d630-426d-e0ba-e54df37c8caa"
      },
      "execution_count": null,
      "outputs": [
        {
          "output_type": "execute_result",
          "data": {
            "text/plain": [
              "array([[ 0,  1,  2],\n",
              "       [ 3,  4,  5],\n",
              "       [ 6,  7,  8],\n",
              "       [ 9, 10, 11]])"
            ]
          },
          "metadata": {},
          "execution_count": 16
        }
      ]
    },
    {
      "cell_type": "code",
      "source": [
        "np.concatenate((c,d), axis=1)"
      ],
      "metadata": {
        "colab": {
          "base_uri": "https://localhost:8080/"
        },
        "id": "84CtZN_F0JFB",
        "outputId": "12c02b48-a3b5-4649-fc30-b36e91e0113b"
      },
      "execution_count": null,
      "outputs": [
        {
          "output_type": "execute_result",
          "data": {
            "text/plain": [
              "array([[ 0,  1,  2,  6,  7,  8],\n",
              "       [ 3,  4,  5,  9, 10, 11]])"
            ]
          },
          "metadata": {},
          "execution_count": 17
        }
      ]
    },
    {
      "cell_type": "code",
      "source": [],
      "metadata": {
        "id": "7P-rLGHy0Wdi"
      },
      "execution_count": null,
      "outputs": []
    },
    {
      "cell_type": "markdown",
      "source": [
        "# np.unique\n",
        "With the help of np.unique() method, we can get the unique value from an array given as parameter in np.unique() method."
      ],
      "metadata": {
        "id": "Uo-Zo_H20ZxR"
      }
    },
    {
      "cell_type": "code",
      "source": [
        "e = np.array([1,1,2,2,3,3,4,4,5,5,6,6])\n",
        "e"
      ],
      "metadata": {
        "colab": {
          "base_uri": "https://localhost:8080/"
        },
        "id": "oOpyrqx00q04",
        "outputId": "a82e5763-8653-4619-df9b-e73cc9adb18f"
      },
      "execution_count": null,
      "outputs": [
        {
          "output_type": "execute_result",
          "data": {
            "text/plain": [
              "array([1, 1, 2, 2, 3, 3, 4, 4, 5, 5, 6, 6])"
            ]
          },
          "metadata": {},
          "execution_count": 18
        }
      ]
    },
    {
      "cell_type": "code",
      "source": [
        "np.unique(e)"
      ],
      "metadata": {
        "colab": {
          "base_uri": "https://localhost:8080/"
        },
        "id": "iN03CsIk0x-q",
        "outputId": "f67578de-3c19-40fd-9825-9942d6e36d70"
      },
      "execution_count": null,
      "outputs": [
        {
          "output_type": "execute_result",
          "data": {
            "text/plain": [
              "array([1, 2, 3, 4, 5, 6])"
            ]
          },
          "metadata": {},
          "execution_count": 19
        }
      ]
    },
    {
      "cell_type": "code",
      "source": [],
      "metadata": {
        "id": "VHL2ep4C019b"
      },
      "execution_count": null,
      "outputs": []
    },
    {
      "cell_type": "markdown",
      "source": [
        "# np.expand_dims\n",
        "with the help of numpy.expand_dims() method, we can get ethe expanded diensions of an array."
      ],
      "metadata": {
        "id": "rEeX8KCG0_aW"
      }
    },
    {
      "cell_type": "code",
      "source": [
        "a"
      ],
      "metadata": {
        "colab": {
          "base_uri": "https://localhost:8080/"
        },
        "id": "4E0V4jkX1Lxf",
        "outputId": "d41fe546-7068-4349-99d9-9cbf40bf9ad7"
      },
      "execution_count": null,
      "outputs": [
        {
          "output_type": "execute_result",
          "data": {
            "text/plain": [
              "array([40, 71, 90, 12, 79, 20, 10,  6, 24,  3, 50, 86, 28, 98, 23])"
            ]
          },
          "metadata": {},
          "execution_count": 20
        }
      ]
    },
    {
      "cell_type": "code",
      "source": [
        "np.expand_dims(a, axis=0)"
      ],
      "metadata": {
        "colab": {
          "base_uri": "https://localhost:8080/"
        },
        "id": "63LYMTHD1X9i",
        "outputId": "ee9ce42c-5392-42e4-c32b-50e0f26d4a63"
      },
      "execution_count": null,
      "outputs": [
        {
          "output_type": "execute_result",
          "data": {
            "text/plain": [
              "array([[40, 71, 90, 12, 79, 20, 10,  6, 24,  3, 50, 86, 28, 98, 23]])"
            ]
          },
          "metadata": {},
          "execution_count": 25
        }
      ]
    },
    {
      "cell_type": "code",
      "source": [
        "np.expand_dims(a, axis=0).shape"
      ],
      "metadata": {
        "colab": {
          "base_uri": "https://localhost:8080/"
        },
        "id": "nET1O4vB1dqz",
        "outputId": "88545cf7-ea0c-4af4-e55c-e9f6fd234bbd"
      },
      "execution_count": null,
      "outputs": [
        {
          "output_type": "execute_result",
          "data": {
            "text/plain": [
              "(1, 15)"
            ]
          },
          "metadata": {},
          "execution_count": 26
        }
      ]
    },
    {
      "cell_type": "code",
      "source": [
        "np.expand_dims(a, axis=1)"
      ],
      "metadata": {
        "colab": {
          "base_uri": "https://localhost:8080/"
        },
        "id": "CUATugKZ1pmc",
        "outputId": "ccbad084-2192-47b2-ddc9-6590c47cca5d"
      },
      "execution_count": null,
      "outputs": [
        {
          "output_type": "execute_result",
          "data": {
            "text/plain": [
              "array([[40],\n",
              "       [71],\n",
              "       [90],\n",
              "       [12],\n",
              "       [79],\n",
              "       [20],\n",
              "       [10],\n",
              "       [ 6],\n",
              "       [24],\n",
              "       [ 3],\n",
              "       [50],\n",
              "       [86],\n",
              "       [28],\n",
              "       [98],\n",
              "       [23]])"
            ]
          },
          "metadata": {},
          "execution_count": 27
        }
      ]
    },
    {
      "cell_type": "code",
      "source": [
        "np.expand_dims(a, axis=1).shape"
      ],
      "metadata": {
        "colab": {
          "base_uri": "https://localhost:8080/"
        },
        "id": "7fG9FYNp1t66",
        "outputId": "8e99627b-848b-43aa-bddd-50bb09272cd7"
      },
      "execution_count": null,
      "outputs": [
        {
          "output_type": "execute_result",
          "data": {
            "text/plain": [
              "(15, 1)"
            ]
          },
          "metadata": {},
          "execution_count": 28
        }
      ]
    },
    {
      "cell_type": "code",
      "source": [],
      "metadata": {
        "id": "JtEG7NFT1w0o"
      },
      "execution_count": null,
      "outputs": []
    },
    {
      "cell_type": "markdown",
      "source": [
        "# np.where\n",
        "The numpy.where() function return the indices of elements in an input array where the given condition is satisfied."
      ],
      "metadata": {
        "id": "_Of6B2ru2HPv"
      }
    },
    {
      "cell_type": "code",
      "source": [
        "a"
      ],
      "metadata": {
        "colab": {
          "base_uri": "https://localhost:8080/"
        },
        "id": "gks_YCSL2YVk",
        "outputId": "4c8f7797-4786-448a-fee0-b472bc86ee49"
      },
      "execution_count": null,
      "outputs": [
        {
          "output_type": "execute_result",
          "data": {
            "text/plain": [
              "array([40, 71, 90, 12, 79, 20, 10,  6, 24,  3, 50, 86, 28, 98, 23])"
            ]
          },
          "metadata": {},
          "execution_count": 29
        }
      ]
    },
    {
      "cell_type": "code",
      "source": [
        "# find the all indices with value grater than 50\n",
        "np.where(a>50)"
      ],
      "metadata": {
        "colab": {
          "base_uri": "https://localhost:8080/"
        },
        "id": "bxBZ3EKv2auC",
        "outputId": "34ea3e42-1b88-4f2e-fe68-4b0ee9db8775"
      },
      "execution_count": null,
      "outputs": [
        {
          "output_type": "execute_result",
          "data": {
            "text/plain": [
              "(array([ 1,  2,  4, 11, 13]),)"
            ]
          },
          "metadata": {},
          "execution_count": 30
        }
      ]
    },
    {
      "cell_type": "code",
      "source": [
        "# replace all values > 50 with 0\n",
        "np.where(a>50,0,a)"
      ],
      "metadata": {
        "colab": {
          "base_uri": "https://localhost:8080/"
        },
        "id": "5m9a5x6a2pPa",
        "outputId": "e77a06d7-6ffc-443f-ec10-0e440fa13500"
      },
      "execution_count": null,
      "outputs": [
        {
          "output_type": "execute_result",
          "data": {
            "text/plain": [
              "array([40,  0,  0, 12,  0, 20, 10,  6, 24,  3, 50,  0, 28,  0, 23])"
            ]
          },
          "metadata": {},
          "execution_count": 31
        }
      ]
    },
    {
      "cell_type": "code",
      "source": [
        "# replace even number with 0\n",
        "np.where(a%2==0,0,a)"
      ],
      "metadata": {
        "colab": {
          "base_uri": "https://localhost:8080/"
        },
        "id": "DVnSH2mG27E9",
        "outputId": "10b3ec57-e437-4aa5-92ec-6287c1937d35"
      },
      "execution_count": null,
      "outputs": [
        {
          "output_type": "execute_result",
          "data": {
            "text/plain": [
              "array([ 0, 71,  0,  0, 79,  0,  0,  0,  0,  3,  0,  0,  0,  0, 23])"
            ]
          },
          "metadata": {},
          "execution_count": 32
        }
      ]
    },
    {
      "cell_type": "code",
      "source": [],
      "metadata": {
        "id": "iKBh1LbN3Eo9"
      },
      "execution_count": null,
      "outputs": []
    },
    {
      "cell_type": "markdown",
      "source": [
        "# np.argmax\n",
        "The numpy.argmax() function returns indices of the max element of the array in a particular axis."
      ],
      "metadata": {
        "id": "KoqGgeXB3HHf"
      }
    },
    {
      "cell_type": "code",
      "source": [
        "a"
      ],
      "metadata": {
        "colab": {
          "base_uri": "https://localhost:8080/"
        },
        "id": "jZe9qLcX3Wlu",
        "outputId": "53115348-f24b-4a90-9a90-7e88d2f293a7"
      },
      "execution_count": null,
      "outputs": [
        {
          "output_type": "execute_result",
          "data": {
            "text/plain": [
              "array([40, 71, 90, 12, 79, 20, 10,  6, 24,  3, 50, 86, 28, 98, 23])"
            ]
          },
          "metadata": {},
          "execution_count": 33
        }
      ]
    },
    {
      "cell_type": "code",
      "source": [
        "np.argmax(a)"
      ],
      "metadata": {
        "colab": {
          "base_uri": "https://localhost:8080/"
        },
        "id": "E4Cyq_KM3fJH",
        "outputId": "a6fdbbf3-9853-4167-adb1-424733f40cee"
      },
      "execution_count": null,
      "outputs": [
        {
          "output_type": "execute_result",
          "data": {
            "text/plain": [
              "np.int64(13)"
            ]
          },
          "metadata": {},
          "execution_count": 34
        }
      ]
    },
    {
      "cell_type": "code",
      "source": [
        "b"
      ],
      "metadata": {
        "colab": {
          "base_uri": "https://localhost:8080/"
        },
        "id": "JAPTdLJe3ifH",
        "outputId": "db3ecf5e-b798-4ecc-e8e7-c4c45be90acc"
      },
      "execution_count": null,
      "outputs": [
        {
          "output_type": "execute_result",
          "data": {
            "text/plain": [
              "array([[90, 61, 76, 47],\n",
              "       [57, 97, 15, 40],\n",
              "       [93, 68, 37,  5],\n",
              "       [40, 93, 26, 90],\n",
              "       [42, 45, 30, 76],\n",
              "       [88, 65,  5, 18]])"
            ]
          },
          "metadata": {},
          "execution_count": 35
        }
      ]
    },
    {
      "cell_type": "code",
      "source": [
        "np.argmax(b,axis = 0)"
      ],
      "metadata": {
        "colab": {
          "base_uri": "https://localhost:8080/"
        },
        "id": "z999cfPJ3u6I",
        "outputId": "552092c0-37ca-41a6-b411-f953ba122812"
      },
      "execution_count": null,
      "outputs": [
        {
          "output_type": "execute_result",
          "data": {
            "text/plain": [
              "array([2, 1, 0, 3])"
            ]
          },
          "metadata": {},
          "execution_count": 36
        }
      ]
    },
    {
      "cell_type": "code",
      "source": [
        "# row wise\n",
        "np.argmax(b, axis = 1)"
      ],
      "metadata": {
        "colab": {
          "base_uri": "https://localhost:8080/"
        },
        "id": "RlTJ5nib3z_i",
        "outputId": "6d015c57-f059-4848-db9d-4b43e13ecf42"
      },
      "execution_count": null,
      "outputs": [
        {
          "output_type": "execute_result",
          "data": {
            "text/plain": [
              "array([0, 1, 0, 1, 3, 0])"
            ]
          },
          "metadata": {},
          "execution_count": 37
        }
      ]
    },
    {
      "cell_type": "code",
      "source": [
        "# minimum value\n",
        "np.argmin(b)"
      ],
      "metadata": {
        "colab": {
          "base_uri": "https://localhost:8080/"
        },
        "id": "GgCvnpuB3-_H",
        "outputId": "055659ab-7631-4817-8ad3-97936912ec15"
      },
      "execution_count": null,
      "outputs": [
        {
          "output_type": "execute_result",
          "data": {
            "text/plain": [
              "np.int64(11)"
            ]
          },
          "metadata": {},
          "execution_count": 38
        }
      ]
    },
    {
      "cell_type": "code",
      "source": [],
      "metadata": {
        "id": "LcNtpeLM4FGY"
      },
      "execution_count": null,
      "outputs": []
    },
    {
      "cell_type": "markdown",
      "source": [
        "# np.cumsum\n",
        "numpy.cumsum() function used when we want to compute the cumulative sum of array elements over a given axis."
      ],
      "metadata": {
        "id": "TI_X2oOk4GTX"
      }
    },
    {
      "cell_type": "code",
      "source": [
        "a"
      ],
      "metadata": {
        "colab": {
          "base_uri": "https://localhost:8080/"
        },
        "id": "zfWubjKP4WTQ",
        "outputId": "15d0d341-5c88-41d3-b9e3-4b450a07e4b0"
      },
      "execution_count": null,
      "outputs": [
        {
          "output_type": "execute_result",
          "data": {
            "text/plain": [
              "array([40, 71, 90, 12, 79, 20, 10,  6, 24,  3, 50, 86, 28, 98, 23])"
            ]
          },
          "metadata": {},
          "execution_count": 39
        }
      ]
    },
    {
      "cell_type": "code",
      "source": [
        "np.cumsum(a)"
      ],
      "metadata": {
        "colab": {
          "base_uri": "https://localhost:8080/"
        },
        "id": "fucbdeCe5GYf",
        "outputId": "b92cdd90-38a3-4459-86ea-8b965c266496"
      },
      "execution_count": null,
      "outputs": [
        {
          "output_type": "execute_result",
          "data": {
            "text/plain": [
              "array([ 40, 111, 201, 213, 292, 312, 322, 328, 352, 355, 405, 491, 519,\n",
              "       617, 640])"
            ]
          },
          "metadata": {},
          "execution_count": 40
        }
      ]
    },
    {
      "cell_type": "code",
      "source": [
        "b"
      ],
      "metadata": {
        "colab": {
          "base_uri": "https://localhost:8080/"
        },
        "id": "4osTnMTS5Jbc",
        "outputId": "9e96bb01-9da4-48b3-9bc4-c3b73641dd6a"
      },
      "execution_count": null,
      "outputs": [
        {
          "output_type": "execute_result",
          "data": {
            "text/plain": [
              "array([[90, 61, 76, 47],\n",
              "       [57, 97, 15, 40],\n",
              "       [93, 68, 37,  5],\n",
              "       [40, 93, 26, 90],\n",
              "       [42, 45, 30, 76],\n",
              "       [88, 65,  5, 18]])"
            ]
          },
          "metadata": {},
          "execution_count": 41
        }
      ]
    },
    {
      "cell_type": "code",
      "source": [
        "np.cumsum(b)"
      ],
      "metadata": {
        "colab": {
          "base_uri": "https://localhost:8080/"
        },
        "id": "fObgLR4W5Nnh",
        "outputId": "f183a8a0-f4a2-48ce-8479-511f1811e9dc"
      },
      "execution_count": null,
      "outputs": [
        {
          "output_type": "execute_result",
          "data": {
            "text/plain": [
              "array([  90,  151,  227,  274,  331,  428,  443,  483,  576,  644,  681,\n",
              "        686,  726,  819,  845,  935,  977, 1022, 1052, 1128, 1216, 1281,\n",
              "       1286, 1304])"
            ]
          },
          "metadata": {},
          "execution_count": 42
        }
      ]
    },
    {
      "cell_type": "code",
      "source": [
        "np.cumsum(b,axis = 0)"
      ],
      "metadata": {
        "colab": {
          "base_uri": "https://localhost:8080/"
        },
        "id": "-uQjL1gH5Qbw",
        "outputId": "dfe4e3c6-9462-491f-e42c-302c0b549cc4"
      },
      "execution_count": null,
      "outputs": [
        {
          "output_type": "execute_result",
          "data": {
            "text/plain": [
              "array([[ 90,  61,  76,  47],\n",
              "       [147, 158,  91,  87],\n",
              "       [240, 226, 128,  92],\n",
              "       [280, 319, 154, 182],\n",
              "       [322, 364, 184, 258],\n",
              "       [410, 429, 189, 276]])"
            ]
          },
          "metadata": {},
          "execution_count": 43
        }
      ]
    },
    {
      "cell_type": "code",
      "source": [
        "np.cumsum(b,axis = 1)"
      ],
      "metadata": {
        "colab": {
          "base_uri": "https://localhost:8080/"
        },
        "id": "9e0izMpg5UIP",
        "outputId": "c1a3280d-6f02-4d9b-e1db-e76fddb4e572"
      },
      "execution_count": null,
      "outputs": [
        {
          "output_type": "execute_result",
          "data": {
            "text/plain": [
              "array([[ 90, 151, 227, 274],\n",
              "       [ 57, 154, 169, 209],\n",
              "       [ 93, 161, 198, 203],\n",
              "       [ 40, 133, 159, 249],\n",
              "       [ 42,  87, 117, 193],\n",
              "       [ 88, 153, 158, 176]])"
            ]
          },
          "metadata": {},
          "execution_count": 44
        }
      ]
    },
    {
      "cell_type": "code",
      "source": [
        "a"
      ],
      "metadata": {
        "colab": {
          "base_uri": "https://localhost:8080/"
        },
        "id": "W_5nwkGm5ak3",
        "outputId": "bb068a3c-5508-4af9-bd84-af99a560bdab"
      },
      "execution_count": null,
      "outputs": [
        {
          "output_type": "execute_result",
          "data": {
            "text/plain": [
              "array([40, 71, 90, 12, 79, 20, 10,  6, 24,  3, 50, 86, 28, 98, 23])"
            ]
          },
          "metadata": {},
          "execution_count": 45
        }
      ]
    },
    {
      "cell_type": "code",
      "source": [
        "np.cumprod(a)"
      ],
      "metadata": {
        "colab": {
          "base_uri": "https://localhost:8080/"
        },
        "id": "-nJ-AYF45jzP",
        "outputId": "cdcba406-3bba-4b55-fc4e-4d29b3507324"
      },
      "execution_count": null,
      "outputs": [
        {
          "output_type": "execute_result",
          "data": {
            "text/plain": [
              "array([                 40,                2840,              255600,\n",
              "                   3067200,           242308800,          4846176000,\n",
              "               48461760000,        290770560000,       6978493440000,\n",
              "            20935480320000,    1046774016000000,   90022565376000000,\n",
              "       2520631830528000000, 7214246433519828992,  -93028692429897728])"
            ]
          },
          "metadata": {},
          "execution_count": 46
        }
      ]
    },
    {
      "cell_type": "code",
      "source": [],
      "metadata": {
        "id": "dfxWDIE05m71"
      },
      "execution_count": null,
      "outputs": []
    },
    {
      "cell_type": "markdown",
      "source": [
        "# np.percentile"
      ],
      "metadata": {
        "id": "EmUklM4K5plN"
      }
    },
    {
      "cell_type": "code",
      "source": [
        "a"
      ],
      "metadata": {
        "colab": {
          "base_uri": "https://localhost:8080/"
        },
        "id": "D8wZFoOY5tJq",
        "outputId": "78e7a99d-2eea-4679-86d7-944477c9200c"
      },
      "execution_count": null,
      "outputs": [
        {
          "output_type": "execute_result",
          "data": {
            "text/plain": [
              "array([40, 71, 90, 12, 79, 20, 10,  6, 24,  3, 50, 86, 28, 98, 23])"
            ]
          },
          "metadata": {},
          "execution_count": 47
        }
      ]
    },
    {
      "cell_type": "code",
      "source": [
        "np.percentile(a,100)"
      ],
      "metadata": {
        "colab": {
          "base_uri": "https://localhost:8080/"
        },
        "id": "eqnac7q-50SV",
        "outputId": "19b0b57a-ac89-4163-f4c1-836f54b86698"
      },
      "execution_count": null,
      "outputs": [
        {
          "output_type": "execute_result",
          "data": {
            "text/plain": [
              "np.float64(98.0)"
            ]
          },
          "metadata": {},
          "execution_count": 48
        }
      ]
    },
    {
      "cell_type": "code",
      "source": [
        "np.percentile(a,0)"
      ],
      "metadata": {
        "colab": {
          "base_uri": "https://localhost:8080/"
        },
        "id": "EDG7LpHD6Cu2",
        "outputId": "1fb83961-1836-499a-f030-f14f8b0ee4c1"
      },
      "execution_count": null,
      "outputs": [
        {
          "output_type": "execute_result",
          "data": {
            "text/plain": [
              "np.float64(3.0)"
            ]
          },
          "metadata": {},
          "execution_count": 49
        }
      ]
    },
    {
      "cell_type": "code",
      "source": [
        "np.percentile(a,50)"
      ],
      "metadata": {
        "colab": {
          "base_uri": "https://localhost:8080/"
        },
        "id": "PMKMks2s6GjB",
        "outputId": "cd2cc219-f05d-42e9-a631-65ba080676b6"
      },
      "execution_count": null,
      "outputs": [
        {
          "output_type": "execute_result",
          "data": {
            "text/plain": [
              "np.float64(28.0)"
            ]
          },
          "metadata": {},
          "execution_count": 50
        }
      ]
    },
    {
      "cell_type": "code",
      "source": [
        "np.median(a)"
      ],
      "metadata": {
        "colab": {
          "base_uri": "https://localhost:8080/"
        },
        "id": "YA5Wyfrh6L7C",
        "outputId": "316d6ee7-9bfd-4eb5-bdcf-2bbef43a811d"
      },
      "execution_count": null,
      "outputs": [
        {
          "output_type": "execute_result",
          "data": {
            "text/plain": [
              "np.float64(28.0)"
            ]
          },
          "metadata": {},
          "execution_count": 52
        }
      ]
    },
    {
      "cell_type": "code",
      "source": [],
      "metadata": {
        "id": "e3CUcPQW6N7B"
      },
      "execution_count": null,
      "outputs": []
    },
    {
      "cell_type": "markdown",
      "source": [
        "# np.histogram"
      ],
      "metadata": {
        "id": "GPorfoAh-sQr"
      }
    },
    {
      "cell_type": "code",
      "source": [
        "a"
      ],
      "metadata": {
        "colab": {
          "base_uri": "https://localhost:8080/"
        },
        "id": "XlPPRywq-us_",
        "outputId": "f9425a37-05c8-41e5-dd2a-1dcaf3ccedf1"
      },
      "execution_count": null,
      "outputs": [
        {
          "output_type": "execute_result",
          "data": {
            "text/plain": [
              "array([40, 71, 90, 12, 79, 20, 10,  6, 24,  3, 50, 86, 28, 98, 23])"
            ]
          },
          "metadata": {},
          "execution_count": 53
        }
      ]
    },
    {
      "cell_type": "code",
      "source": [
        "np.histogram(a,bins=[0,10,20,30,40,50,60,70,80,90,100])"
      ],
      "metadata": {
        "colab": {
          "base_uri": "https://localhost:8080/"
        },
        "id": "O1m1Xx98-vge",
        "outputId": "17dad8b7-bece-4e45-d77e-0202af32f93e"
      },
      "execution_count": null,
      "outputs": [
        {
          "output_type": "execute_result",
          "data": {
            "text/plain": [
              "(array([2, 2, 4, 0, 1, 1, 0, 2, 1, 2]),\n",
              " array([  0,  10,  20,  30,  40,  50,  60,  70,  80,  90, 100]))"
            ]
          },
          "metadata": {},
          "execution_count": 54
        }
      ]
    },
    {
      "cell_type": "code",
      "source": [],
      "metadata": {
        "id": "_MFfBjiU_Pkz"
      },
      "execution_count": null,
      "outputs": []
    },
    {
      "cell_type": "markdown",
      "source": [
        "**np.corrcoef**"
      ],
      "metadata": {
        "id": "rDXd5jji_eSV"
      }
    },
    {
      "cell_type": "code",
      "source": [
        "salary=np.array([20000,40000,25000,35000,60000])\n",
        "experience=np.array([1,3,2,4,2])"
      ],
      "metadata": {
        "id": "nuCJrc_T_ieR"
      },
      "execution_count": null,
      "outputs": []
    },
    {
      "cell_type": "code",
      "source": [
        "np.corrcoef(salary,experience)"
      ],
      "metadata": {
        "colab": {
          "base_uri": "https://localhost:8080/"
        },
        "id": "JAYNL-9qAJJh",
        "outputId": "103f3b57-6362-4e73-e960-9bfc0c62c565"
      },
      "execution_count": null,
      "outputs": [
        {
          "output_type": "execute_result",
          "data": {
            "text/plain": [
              "array([[1.        , 0.25344572],\n",
              "       [0.25344572, 1.        ]])"
            ]
          },
          "metadata": {},
          "execution_count": 56
        }
      ]
    },
    {
      "cell_type": "code",
      "source": [],
      "metadata": {
        "id": "lQF-z13mAOkM"
      },
      "execution_count": null,
      "outputs": []
    },
    {
      "cell_type": "markdown",
      "source": [
        "**np.isin**"
      ],
      "metadata": {
        "id": "oJ7RC7anAqFD"
      }
    },
    {
      "cell_type": "code",
      "source": [
        "a"
      ],
      "metadata": {
        "colab": {
          "base_uri": "https://localhost:8080/"
        },
        "id": "sV6MvMWpAssj",
        "outputId": "c8072141-4c7c-463d-be89-046b6b968bd1"
      },
      "execution_count": null,
      "outputs": [
        {
          "output_type": "execute_result",
          "data": {
            "text/plain": [
              "array([40, 71, 90, 12, 79, 20, 10,  6, 24,  3, 50, 86, 28, 98, 23])"
            ]
          },
          "metadata": {},
          "execution_count": 57
        }
      ]
    },
    {
      "cell_type": "code",
      "source": [
        "items = [10,20,30,40,50,60,70,80,90,100]\n",
        "np.isin(a,items)"
      ],
      "metadata": {
        "colab": {
          "base_uri": "https://localhost:8080/"
        },
        "id": "syLcZR7GAv7R",
        "outputId": "a9caf912-987d-4889-8203-a6cb030ee778"
      },
      "execution_count": null,
      "outputs": [
        {
          "output_type": "execute_result",
          "data": {
            "text/plain": [
              "array([ True, False,  True, False, False,  True,  True, False, False,\n",
              "       False,  True, False, False, False, False])"
            ]
          },
          "metadata": {},
          "execution_count": 58
        }
      ]
    },
    {
      "cell_type": "code",
      "source": [
        "a[np.isin(a,items)]"
      ],
      "metadata": {
        "colab": {
          "base_uri": "https://localhost:8080/"
        },
        "id": "I7RYtSOYBA5w",
        "outputId": "cf0e7214-50e8-4414-8668-8b83bd5f5255"
      },
      "execution_count": null,
      "outputs": [
        {
          "output_type": "execute_result",
          "data": {
            "text/plain": [
              "array([40, 90, 20, 10, 50])"
            ]
          },
          "metadata": {},
          "execution_count": 60
        }
      ]
    },
    {
      "cell_type": "code",
      "source": [],
      "metadata": {
        "id": "8oBHToR8B0O-"
      },
      "execution_count": null,
      "outputs": []
    },
    {
      "cell_type": "markdown",
      "source": [
        "**np.flip**"
      ],
      "metadata": {
        "id": "s5K48psmB6Aa"
      }
    },
    {
      "cell_type": "code",
      "source": [
        "a"
      ],
      "metadata": {
        "colab": {
          "base_uri": "https://localhost:8080/"
        },
        "id": "i_rXSHYZB9cC",
        "outputId": "a90f0ced-048c-4d75-ae24-b0dfeae7f8cc"
      },
      "execution_count": null,
      "outputs": [
        {
          "output_type": "execute_result",
          "data": {
            "text/plain": [
              "array([40, 71, 90, 12, 79, 20, 10,  6, 24,  3, 50, 86, 28, 98, 23])"
            ]
          },
          "metadata": {},
          "execution_count": 61
        }
      ]
    },
    {
      "cell_type": "code",
      "source": [
        "np.flip(a)"
      ],
      "metadata": {
        "colab": {
          "base_uri": "https://localhost:8080/"
        },
        "id": "klqZdbJSCAQ0",
        "outputId": "b6fde138-cbf1-4901-9c0f-1b588506732b"
      },
      "execution_count": null,
      "outputs": [
        {
          "output_type": "execute_result",
          "data": {
            "text/plain": [
              "array([23, 98, 28, 86, 50,  3, 24,  6, 10, 20, 79, 12, 90, 71, 40])"
            ]
          },
          "metadata": {},
          "execution_count": 62
        }
      ]
    },
    {
      "cell_type": "code",
      "source": [
        "b"
      ],
      "metadata": {
        "colab": {
          "base_uri": "https://localhost:8080/"
        },
        "id": "owd8MXN0CDfq",
        "outputId": "7acf1318-1a2b-40f2-e9ff-00adc07aa2df"
      },
      "execution_count": null,
      "outputs": [
        {
          "output_type": "execute_result",
          "data": {
            "text/plain": [
              "array([[90, 61, 76, 47],\n",
              "       [57, 97, 15, 40],\n",
              "       [93, 68, 37,  5],\n",
              "       [40, 93, 26, 90],\n",
              "       [42, 45, 30, 76],\n",
              "       [88, 65,  5, 18]])"
            ]
          },
          "metadata": {},
          "execution_count": 63
        }
      ]
    },
    {
      "cell_type": "code",
      "source": [
        "np.flip(b)"
      ],
      "metadata": {
        "colab": {
          "base_uri": "https://localhost:8080/"
        },
        "id": "nB6kbGabCGWM",
        "outputId": "b627734b-a05a-4d94-9921-61d8bf6d8d1c"
      },
      "execution_count": null,
      "outputs": [
        {
          "output_type": "execute_result",
          "data": {
            "text/plain": [
              "array([[18,  5, 65, 88],\n",
              "       [76, 30, 45, 42],\n",
              "       [90, 26, 93, 40],\n",
              "       [ 5, 37, 68, 93],\n",
              "       [40, 15, 97, 57],\n",
              "       [47, 76, 61, 90]])"
            ]
          },
          "metadata": {},
          "execution_count": 64
        }
      ]
    },
    {
      "cell_type": "code",
      "source": [
        "np.flip(b,axis = 0)"
      ],
      "metadata": {
        "colab": {
          "base_uri": "https://localhost:8080/"
        },
        "id": "59-H-9PYCKJW",
        "outputId": "a790133d-ecfc-43b9-ce91-70b61bd56c5f"
      },
      "execution_count": null,
      "outputs": [
        {
          "output_type": "execute_result",
          "data": {
            "text/plain": [
              "array([[88, 65,  5, 18],\n",
              "       [42, 45, 30, 76],\n",
              "       [40, 93, 26, 90],\n",
              "       [93, 68, 37,  5],\n",
              "       [57, 97, 15, 40],\n",
              "       [90, 61, 76, 47]])"
            ]
          },
          "metadata": {},
          "execution_count": 66
        }
      ]
    },
    {
      "cell_type": "code",
      "source": [],
      "metadata": {
        "id": "1mTE_O_6CP5X"
      },
      "execution_count": null,
      "outputs": []
    },
    {
      "cell_type": "markdown",
      "source": [
        "**np.put**"
      ],
      "metadata": {
        "id": "JX6aFlplCZez"
      }
    },
    {
      "cell_type": "code",
      "source": [
        "a"
      ],
      "metadata": {
        "colab": {
          "base_uri": "https://localhost:8080/"
        },
        "id": "VahPRnuCCcFZ",
        "outputId": "12361ad0-4f4e-413a-8434-dd8db62c3c4a"
      },
      "execution_count": null,
      "outputs": [
        {
          "output_type": "execute_result",
          "data": {
            "text/plain": [
              "array([40, 71, 90, 12, 79, 20, 10,  6, 24,  3, 50, 86, 28, 98, 23])"
            ]
          },
          "metadata": {},
          "execution_count": 67
        }
      ]
    },
    {
      "cell_type": "code",
      "source": [
        "np.put(a,[0,1],[110,530])"
      ],
      "metadata": {
        "id": "_eATAZOhCkvu"
      },
      "execution_count": null,
      "outputs": []
    },
    {
      "cell_type": "code",
      "source": [
        "a"
      ],
      "metadata": {
        "colab": {
          "base_uri": "https://localhost:8080/"
        },
        "id": "WAlYhLAvCuy-",
        "outputId": "33521266-aed4-491c-9013-69317949a1a6"
      },
      "execution_count": null,
      "outputs": [
        {
          "output_type": "execute_result",
          "data": {
            "text/plain": [
              "array([110, 530,  90,  12,  79,  20,  10,   6,  24,   3,  50,  86,  28,\n",
              "        98,  23])"
            ]
          },
          "metadata": {},
          "execution_count": 69
        }
      ]
    },
    {
      "cell_type": "code",
      "source": [],
      "metadata": {
        "id": "-EBokSx_CvqS"
      },
      "execution_count": null,
      "outputs": []
    },
    {
      "cell_type": "markdown",
      "source": [
        "**np.delete**"
      ],
      "metadata": {
        "id": "kvIn_poEC2xp"
      }
    },
    {
      "cell_type": "code",
      "source": [
        "a"
      ],
      "metadata": {
        "colab": {
          "base_uri": "https://localhost:8080/"
        },
        "id": "-JGocE2_C5JP",
        "outputId": "e9aafc77-c215-4771-bc71-7ba382e299c3"
      },
      "execution_count": null,
      "outputs": [
        {
          "output_type": "execute_result",
          "data": {
            "text/plain": [
              "array([110, 530,  90,  12,  79,  20,  10,   6,  24,   3,  50,  86,  28,\n",
              "        98,  23])"
            ]
          },
          "metadata": {},
          "execution_count": 70
        }
      ]
    },
    {
      "cell_type": "code",
      "source": [
        "np.delete(a,0)"
      ],
      "metadata": {
        "colab": {
          "base_uri": "https://localhost:8080/"
        },
        "id": "sy2EUVtsC7pz",
        "outputId": "ca3d6bd9-e72a-4eee-d963-b2a78d09b424"
      },
      "execution_count": null,
      "outputs": [
        {
          "output_type": "execute_result",
          "data": {
            "text/plain": [
              "array([530,  90,  12,  79,  20,  10,   6,  24,   3,  50,  86,  28,  98,\n",
              "        23])"
            ]
          },
          "metadata": {},
          "execution_count": 71
        }
      ]
    },
    {
      "cell_type": "code",
      "source": [
        "np.delete(a,(0,2,4))"
      ],
      "metadata": {
        "colab": {
          "base_uri": "https://localhost:8080/"
        },
        "id": "jZTqAEbjDBt0",
        "outputId": "abcf41e0-74a0-4a3c-8c2a-562474dd9b05"
      },
      "execution_count": null,
      "outputs": [
        {
          "output_type": "execute_result",
          "data": {
            "text/plain": [
              "array([530,  12,  20,  10,   6,  24,   3,  50,  86,  28,  98,  23])"
            ]
          },
          "metadata": {},
          "execution_count": 72
        }
      ]
    },
    {
      "cell_type": "markdown",
      "source": [
        "\n",
        "\n",
        "*   **Set functions**\n",
        "*   np.union 1d\n",
        "*   np.intersect1d\n",
        "*   np.setdiff1d\n",
        "*   np.setxor1d\n",
        "*   np.in1d\n",
        "\n",
        "\n",
        "\n",
        "\n"
      ],
      "metadata": {
        "id": "kqmcP_WPDShk"
      }
    },
    {
      "cell_type": "code",
      "source": [
        "m = np.array([1,2,3,4,5])\n",
        "n = np.array([3,4,5,6,7])"
      ],
      "metadata": {
        "id": "oUqdYVPeDsXR"
      },
      "execution_count": null,
      "outputs": []
    },
    {
      "cell_type": "code",
      "source": [
        "np.union1d(m,n)"
      ],
      "metadata": {
        "colab": {
          "base_uri": "https://localhost:8080/"
        },
        "id": "wlQVi78ND9Fp",
        "outputId": "d039c5be-3bee-439a-cf74-e8b7403088c0"
      },
      "execution_count": null,
      "outputs": [
        {
          "output_type": "execute_result",
          "data": {
            "text/plain": [
              "array([1, 2, 3, 4, 5, 6, 7])"
            ]
          },
          "metadata": {},
          "execution_count": 74
        }
      ]
    },
    {
      "cell_type": "code",
      "source": [
        "np.intersect1d(m,n)"
      ],
      "metadata": {
        "colab": {
          "base_uri": "https://localhost:8080/"
        },
        "id": "ORkKDFrMEB0i",
        "outputId": "2dbf35d1-37ce-454a-9ccc-2f5f280095b0"
      },
      "execution_count": null,
      "outputs": [
        {
          "output_type": "execute_result",
          "data": {
            "text/plain": [
              "array([3, 4, 5])"
            ]
          },
          "metadata": {},
          "execution_count": 75
        }
      ]
    },
    {
      "cell_type": "code",
      "source": [
        "np.setdiff1d(m,n)"
      ],
      "metadata": {
        "colab": {
          "base_uri": "https://localhost:8080/"
        },
        "id": "HIAgvSuTELvT",
        "outputId": "b1645816-f3a8-4323-bbe7-2ba884ece282"
      },
      "execution_count": null,
      "outputs": [
        {
          "output_type": "execute_result",
          "data": {
            "text/plain": [
              "array([1, 2])"
            ]
          },
          "metadata": {},
          "execution_count": 76
        }
      ]
    },
    {
      "cell_type": "code",
      "source": [
        "np.setxor1d(m,n)"
      ],
      "metadata": {
        "colab": {
          "base_uri": "https://localhost:8080/"
        },
        "id": "Xcsefx1UEPdK",
        "outputId": "5ba8d248-7deb-42ab-b8f3-d5dc52a7edd5"
      },
      "execution_count": null,
      "outputs": [
        {
          "output_type": "execute_result",
          "data": {
            "text/plain": [
              "array([1, 2, 6, 7])"
            ]
          },
          "metadata": {},
          "execution_count": 77
        }
      ]
    },
    {
      "cell_type": "code",
      "source": [
        "np.in1d(m,n)"
      ],
      "metadata": {
        "colab": {
          "base_uri": "https://localhost:8080/"
        },
        "id": "dkvBC-yaEXiv",
        "outputId": "9e9f0c7e-5632-4c01-bebf-49c8d7e8d1af"
      },
      "execution_count": null,
      "outputs": [
        {
          "output_type": "stream",
          "name": "stderr",
          "text": [
            "/tmp/ipython-input-207282267.py:1: DeprecationWarning: `in1d` is deprecated. Use `np.isin` instead.\n",
            "  np.in1d(m,n)\n"
          ]
        },
        {
          "output_type": "execute_result",
          "data": {
            "text/plain": [
              "array([False, False,  True,  True,  True])"
            ]
          },
          "metadata": {},
          "execution_count": 78
        }
      ]
    },
    {
      "cell_type": "code",
      "source": [
        "m[np.in1d(m,1)]"
      ],
      "metadata": {
        "colab": {
          "base_uri": "https://localhost:8080/"
        },
        "id": "EmjyCTr9EfmR",
        "outputId": "abb59d80-c1b7-4d1f-e4eb-ce13fa391d5a"
      },
      "execution_count": null,
      "outputs": [
        {
          "output_type": "stream",
          "name": "stderr",
          "text": [
            "/tmp/ipython-input-524887286.py:1: DeprecationWarning: `in1d` is deprecated. Use `np.isin` instead.\n",
            "  m[np.in1d(m,1)]\n"
          ]
        },
        {
          "output_type": "execute_result",
          "data": {
            "text/plain": [
              "array([1])"
            ]
          },
          "metadata": {},
          "execution_count": 79
        }
      ]
    },
    {
      "cell_type": "code",
      "source": [],
      "metadata": {
        "id": "Upn-s-AfErgN"
      },
      "execution_count": null,
      "outputs": []
    }
  ]
}